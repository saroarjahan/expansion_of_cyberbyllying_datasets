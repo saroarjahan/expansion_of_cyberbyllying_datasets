{
 "cells": [
  {
   "cell_type": "code",
   "execution_count": 2,
   "metadata": {
    "scrolled": true
   },
   "outputs": [],
   "source": [
    "# importing dependencies\n",
    "import pandas as pd\n",
    "import numpy as np\n",
    "from sklearn import model_selection, preprocessing, linear_model, naive_bayes, metrics, svm\n",
    "from sklearn.feature_extraction.text import TfidfVectorizer, CountVectorizer\n",
    "from keras.preprocessing import text, sequence\n",
    "from keras import layers, models, optimizers\n",
    "import keras\n",
    "import re\n",
    "from sklearn.model_selection import train_test_split\n",
    "from sklearn.pipeline import Pipeline\n",
    "from sklearn.metrics import roc_auc_score\n",
    "from sklearn.feature_extraction.text import TfidfVectorizer, CountVectorizer\n",
    "from sklearn import decomposition, ensemble\n",
    "import pandas as pd\n",
    "import matplotlib.pyplot as plt\n",
    "import nltk\n",
    "from nltk.stem import PorterStemmer\n",
    "from nltk.tokenize import word_tokenize\n",
    "from nltk.corpus import wordnet as wn\n",
    "from nltk.corpus import wordnet\n",
    "from pywsd import disambiguate\n",
    "from pywsd.similarity import max_similarity as maxsim\n",
    "from nltk.wsd import lesk\n",
    "import string"
   ]
  },
  {
   "cell_type": "code",
   "execution_count": 3,
   "metadata": {
    "scrolled": true
   },
   "outputs": [
    {
     "data": {
      "text/plain": [
       "[('love', 'love', Synset('love.n.04')), ('you', 'you', None)]"
      ]
     },
     "execution_count": 3,
     "metadata": {},
     "output_type": "execute_result"
    }
   ],
   "source": [
    "# disambiguate('I went to the bank to deposit my money')\n",
    "disambiguate('love you', algorithm=maxsim, similarity_option='wup', keepLemmas=True)\n"
   ]
  },
  {
   "cell_type": "code",
   "execution_count": 5,
   "metadata": {},
   "outputs": [
    {
     "name": "stdout",
     "output_type": "stream",
     "text": [
      "{'the', 'of', 'a', 'on'}\n"
     ]
    }
   ],
   "source": [
    "#stop word removal\n",
    "from nltk.corpus import stopwords\n",
    "stop={'a', 'of', 'on', 'the'} #add related stop word here\n",
    "print(stop)"
   ]
  },
  {
   "cell_type": "code",
   "execution_count": 6,
   "metadata": {},
   "outputs": [],
   "source": [
    "df_csv = pd.read_csv('ask_fm_data.csv')\n"
   ]
  },
  {
   "cell_type": "code",
   "execution_count": 7,
   "metadata": {},
   "outputs": [
    {
     "data": {
      "text/html": [
       "<div>\n",
       "<style scoped>\n",
       "    .dataframe tbody tr th:only-of-type {\n",
       "        vertical-align: middle;\n",
       "    }\n",
       "\n",
       "    .dataframe tbody tr th {\n",
       "        vertical-align: top;\n",
       "    }\n",
       "\n",
       "    .dataframe thead th {\n",
       "        text-align: right;\n",
       "    }\n",
       "</style>\n",
       "<table border=\"1\" class=\"dataframe\">\n",
       "  <thead>\n",
       "    <tr style=\"text-align: right;\">\n",
       "      <th></th>\n",
       "      <th>Unnamed: 0</th>\n",
       "      <th>q_a</th>\n",
       "      <th>label</th>\n",
       "    </tr>\n",
       "  </thead>\n",
       "  <tbody>\n",
       "    <tr>\n",
       "      <td>0</td>\n",
       "      <td>0</td>\n",
       "      <td>how to tell if a guy is gay if they seem super...</td>\n",
       "      <td>0</td>\n",
       "    </tr>\n",
       "    <tr>\n",
       "      <td>1</td>\n",
       "      <td>1</td>\n",
       "      <td>Idk I'm not gay</td>\n",
       "      <td>0</td>\n",
       "    </tr>\n",
       "    <tr>\n",
       "      <td>2</td>\n",
       "      <td>2</td>\n",
       "      <td>This person is 100% fake so beware Isabella!</td>\n",
       "      <td>1</td>\n",
       "    </tr>\n",
       "    <tr>\n",
       "      <td>3</td>\n",
       "      <td>3</td>\n",
       "      <td>Oof lmao how is she fake? Who's this lmao shit...</td>\n",
       "      <td>1</td>\n",
       "    </tr>\n",
       "    <tr>\n",
       "      <td>4</td>\n",
       "      <td>4</td>\n",
       "      <td>If your loved one left n cut all ties w you sh...</td>\n",
       "      <td>0</td>\n",
       "    </tr>\n",
       "    <tr>\n",
       "      <td>...</td>\n",
       "      <td>...</td>\n",
       "      <td>...</td>\n",
       "      <td>...</td>\n",
       "    </tr>\n",
       "    <tr>\n",
       "      <td>9993</td>\n",
       "      <td>9993</td>\n",
       "      <td>Basically anything omg</td>\n",
       "      <td>0</td>\n",
       "    </tr>\n",
       "    <tr>\n",
       "      <td>9994</td>\n",
       "      <td>9994</td>\n",
       "      <td>Why is it that when I ask someone so random as...</td>\n",
       "      <td>0</td>\n",
       "    </tr>\n",
       "    <tr>\n",
       "      <td>9995</td>\n",
       "      <td>9995</td>\n",
       "      <td>Thats when my bitch mode comes out</td>\n",
       "      <td>0</td>\n",
       "    </tr>\n",
       "    <tr>\n",
       "      <td>9996</td>\n",
       "      <td>9996</td>\n",
       "      <td>Post a picture of your favorite celebrity!</td>\n",
       "      <td>0</td>\n",
       "    </tr>\n",
       "    <tr>\n",
       "      <td>9997</td>\n",
       "      <td>9997</td>\n",
       "      <td>Hunter Hayes omg</td>\n",
       "      <td>0</td>\n",
       "    </tr>\n",
       "  </tbody>\n",
       "</table>\n",
       "<p>9998 rows × 3 columns</p>\n",
       "</div>"
      ],
      "text/plain": [
       "      Unnamed: 0                                                q_a  label\n",
       "0              0  how to tell if a guy is gay if they seem super...      0\n",
       "1              1                                    Idk I'm not gay      0\n",
       "2              2      This person is 100% fake so beware Isabella!       1\n",
       "3              3  Oof lmao how is she fake? Who's this lmao shit...      1\n",
       "4              4  If your loved one left n cut all ties w you sh...      0\n",
       "...          ...                                                ...    ...\n",
       "9993        9993                             Basically anything omg      0\n",
       "9994        9994  Why is it that when I ask someone so random as...      0\n",
       "9995        9995                 Thats when my bitch mode comes out      0\n",
       "9996        9996        Post a picture of your favorite celebrity!       0\n",
       "9997        9997                                   Hunter Hayes omg      0\n",
       "\n",
       "[9998 rows x 3 columns]"
      ]
     },
     "execution_count": 7,
     "metadata": {},
     "output_type": "execute_result"
    }
   ],
   "source": [
    "df_csv.head(10100)"
   ]
  },
  {
   "cell_type": "code",
   "execution_count": 8,
   "metadata": {},
   "outputs": [
    {
     "name": "stdout",
     "output_type": "stream",
     "text": [
      "9998\n",
      "9998\n"
     ]
    }
   ],
   "source": [
    "#marge all data from files that has been read\n",
    "\n",
    "q_a=[]\n",
    "label=[]\n",
    "for i in range(len(df_csv)):\n",
    "    label.append(int(df_csv['label'][i]))\n",
    "    q_a.append(df_csv['q_a'][i])\n",
    "print(len(q_a))\n",
    "print(len(label))\n"
   ]
  },
  {
   "cell_type": "code",
   "execution_count": 10,
   "metadata": {},
   "outputs": [
    {
     "name": "stdout",
     "output_type": "stream",
     "text": [
      "9998\n"
     ]
    }
   ],
   "source": [
    "# text cleaning\n",
    "w=list(string.ascii_lowercase)\n",
    "QA=[]\n",
    "for i in q_a:\n",
    "    sen=i.replace('@USER','')\n",
    "    sen=sen.replace('@user','')\n",
    "    sen=sen.replace(\"#\", ' ')\n",
    "    sen=sen.replace(\"@\", '')\n",
    "    sen=sen.replace(\"pu**y\", 'pussy')\n",
    "    sen=sen.replace(\" mofo \", ' motherfucker')\n",
    "    sen=sen.replace(\"NEWLINE_TOKEN\", \" \")\n",
    "    sen=sen.replace(\"TAB_TOKEN\", \" \")\n",
    "    sen=sen.replace(\"??\", '?')\n",
    "    sen=sen.replace(\"? ?\", '?')\n",
    "    sen=sen.replace(\"??\", '?')\n",
    "    sen=sen.replace(\"? ?\", '?')\n",
    "    sen=sen.replace(\"? ?\", '?')\n",
    "    sen=sen.replace(\"? ?\", '?')\n",
    "    sen=sen.replace(\"?\", ' ? ')\n",
    "    sen=sen.replace(\"!\", ' ! ')\n",
    "    sen=sen.replace(\" y \", ' why ')\n",
    "    sen=sen.replace(\" u \", ' you ')\n",
    "    sen=sen.replace(\" w \", ' with ')\n",
    "    sen=sen.replace(\" mf \", ' motherfucker ')\n",
    "    sen=sen.replace(\" IDGAF \", ' i dont give a fuck ')\n",
    "    sen=sen.replace(\" IDRC \", ' I Dont Really Care ')\n",
    "    sen=sen.replace(\" tf \", ' the fuck ')\n",
    "    sen=sen.replace(\"wtf \", 'what the fuck ')\n",
    "    sen=sen.replace(\" yanno \", ' you know ')\n",
    "    sen=sen.replace(\" igt \", ' i know right ')\n",
    "    sen=sen.replace(\" r \", ' are ')\n",
    "    sen=sen.replace(\" tbh \", ' to be honest ')\n",
    "    sen=sen.replace(\" ik \", ' i know ')\n",
    "    sen=sen.replace(\" af \", ' as fuck ')\n",
    "    sen=sen.replace(\" hes \", ' he is ')\n",
    "    sen=sen.replace(\" des \", ' this ')\n",
    "    sen=sen.replace(\" bout \", ' about ')\n",
    "    sen=sen.replace(\" em \", ' them ')\n",
    "    sen=sen.replace(\" stg \", ' swear to god ')\n",
    "    sen=sen.replace(\" bj \", ' blow job ')\n",
    "    sen=sen.replace(\" ig \", ' i guess ')\n",
    "    sen=sen.replace(\" fagg \", ' faggot ')\n",
    "    sen=sen.replace(\" fag \", ' faggot ')\n",
    "    sen=sen.replace(\" fagot \", ' faggot ')\n",
    "    sen=sen.replace(\" tfw \", ' That Feel When ')\n",
    "    sen=sen.replace(\" wa \", ' was ')\n",
    "    sen=sen.replace(\" n \", ' and ')\n",
    "    sen=sen.replace(\" y0 \", ' you ')\n",
    "    sen=sen.replace(\" dat \", ' that ')\n",
    "    sen=sen.replace(\" yo \", ' you ')\n",
    "    sen=sen.replace(\"youre \", ' you are ')\n",
    "    sen=sen.replace(\" v \", ' vagina ')\n",
    "    sen=sen.replace(\" pusy \", ' pussy ')\n",
    "    sen=sen.replace(\" pusy\", ' pussy ')\n",
    "    sen=sen.replace(\"pussie\", 'pussy')\n",
    "    sen=sen.replace(\" v.\", ' vagina ')\n",
    "    sen=sen.replace(\" doggystyle \", ' doggy style ')\n",
    "    sen=sen.replace(\"di ck\", 'dick')\n",
    "    sen=sen.replace(\"r you\", 'are you')\n",
    "    sen=sen.replace(\"r u\", 'are you')\n",
    "    sen=sen.replace(\"f*ck\", 'fuck')\n",
    "    sen=sen.replace(\"f**\", 'fuck')\n",
    "    sen=sen.replace(\" fxk \", 'fuck')\n",
    "    sen=sen.replace(\" wil \", 'will')\n",
    "    sen=sen.replace(\" il \", 'i will')\n",
    "    sen=sen.replace(\" asss \", ' ass ')\n",
    "    sen=sen.replace(\" lifeles \", ' lifeless ')\n",
    "    sen=sen.replace(\" ugler \", ' uglier ')\n",
    "    sen=sen.replace(\" you're \", ' you are ') \n",
    "    sen=sen.replace(\",\", ' ') \n",
    "    sen=sen.replace(\"?\", '.') \n",
    "    sen=sen.lower()\n",
    "    for s in w:\n",
    "        n=s+s+s\n",
    "        sen=sen.replace(n, s)\n",
    "    sen=\" \".join(sen.split())\n",
    "    QA.append(sen)\n",
    "# print(QA)\n",
    "q_a=QA\n",
    "print(len(q_a))"
   ]
  },
  {
   "cell_type": "code",
   "execution_count": 12,
   "metadata": {},
   "outputs": [],
   "source": [
    "# Extention of emaning with all words\n",
    "def disambiguation(sen):\n",
    "    text = word_tokenize(sen)\n",
    "    allWords=nltk.pos_tag(text)\n",
    "    new_sen=[]\n",
    "    for x in allWords:\n",
    "#         if x[0]=='fuck':\n",
    "#             synonyms = wn.synsets(x[0])\n",
    "#             for syn in synonyms:\n",
    "#                 for l in syn.lemmas():\n",
    "#                     if l.name() == 'fuck' or l.name() == 'fucking' or l.name() == 'screw' or l.name() == 'screwing' or l.name() == 'ass' or l.name() == 'nooky' or l.name() == 'nookie' or l.name() == 'piece_of_ass'  or l.name() == 'roll_in_the_hay' or l.name() == 'shag' or l.name() == 'shtup' or l.name() == 'sleep_together' or l.name() == 'roll_in_the_hay' or l.name() == 'make_out'  or l.name() == 'sleep_with' or l.name() == 'get_laid' or l.name() == 'have_sex'  or l.name() == 'be_intimate' or l.name() == 'have_intercourse'  or l.name() == 'screw' or l.name() == 'fuck' or l.name() == 'jazz' or l.name() == 'eff' or l.name() == 'hump' or l.name() == 'lie_with' or l.name() == 'bed'  or l.name() == 'bang'  or l.name() == 'bonk':\n",
    "#                         ns=sen.replace(x[0], l.name())\n",
    "#                         ns=ns.lower()\n",
    "#                         new_sen.append(ns.replace('_', ' '))\n",
    "                        \n",
    "#         elif x[0]=='love':\n",
    "#             synonyms = wn.synsets(x[0])\n",
    "#             for l in syn.lemmas():\n",
    "#                 for syn in synonyms:\n",
    "#                     for l in syn.lemmas():\n",
    "#                         if l.name()=='love' or l.name()=='passion' or l.name()=='beloved' or l.name()=='dearest' or l.name()=='honey' or l.name()=='know' or l.name()=='love_life' or l.name()=='have_a_go_at_it' or l.name()=='get_it_on':\n",
    "#                             ns=sen.replace(x[0], l.name())\n",
    "#                             ns=ns.lower()\n",
    "#                             new_sen.append(ns.replace('_', ' '))  \n",
    "\n",
    "        try: \n",
    "            synonyms = wn.synsets(x[0])\n",
    "            for syn in synonyms:\n",
    "                for l in syn.lemmas():\n",
    "                    ns=sen.replace(x[0], l.name())\n",
    "                    ns=ns.lower()\n",
    "                    new_sen.append(ns.replace('_', ' '))\n",
    "        except:\n",
    "            ns=sen.lower()\n",
    "            new_sen.append(ns.replace('_', ' '))\n",
    "    new_sen = list(dict.fromkeys(new_sen))\n",
    "    return new_sen"
   ]
  },
  {
   "cell_type": "code",
   "execution_count": 13,
   "metadata": {},
   "outputs": [],
   "source": [
    "new_q_a=[]\n",
    "new_label=[]\n",
    "for i in  range(len(q_a)):   \n",
    "    collction_sen= disambiguation(q_a[i])\n",
    "    for x in collction_sen:\n",
    "        new_q_a.append(x)\n",
    "        new_label.append(label[i])"
   ]
  },
  {
   "cell_type": "code",
   "execution_count": 14,
   "metadata": {},
   "outputs": [
    {
     "name": "stdout",
     "output_type": "stream",
     "text": [
      "1123052\n",
      "1123052\n"
     ]
    }
   ],
   "source": [
    "#number of extented datas\n",
    "print(len(new_q_a))\n",
    "print(len(new_label))"
   ]
  },
  {
   "cell_type": "code",
   "execution_count": 127,
   "metadata": {},
   "outputs": [],
   "source": [
    "# my_dict = { 'q_a':q_a,'label':label}\n",
    "# df = pd.DataFrame(my_dict)\n",
    "# df.to_csv('formspring_all',index=False)"
   ]
  },
  {
   "cell_type": "code",
   "execution_count": 15,
   "metadata": {},
   "outputs": [],
   "source": [
    "# Read data files\n",
    "comments_attack=pd.DataFrame()\n",
    "comments_attack['comment']=new_q_a\n",
    "comments_attack['label']=new_label"
   ]
  },
  {
   "cell_type": "code",
   "execution_count": 16,
   "metadata": {},
   "outputs": [],
   "source": [
    "dataframe = comments_attack\n",
    "\n",
    "# Text preprocessing\n",
    "# dataframe['comment'] = dataframe['comment'].apply(lambda x: x.replace(\"NEWLINE_TOKEN\", \" \"))\n",
    "# dataframe['comment'] = dataframe['comment'].apply(lambda x: x.replace(\"TAB_TOKEN\", \" \"))\n",
    "# dataframe['comment'] = dataframe['comment'].apply(lambda x: x.lower())\n",
    "# dataframe['comment'] = dataframe['comment'].apply((lambda x: re.sub('[/(){}\\[\\]\\|@,;]','',x)))\n",
    "# dataframe['comment'] = dataframe['comment'].apply((lambda x: re.sub('[^0-9a-z #+_]','',x)))\n",
    "# dataframe['comment'] = dataframe['comment'].apply((lambda x: re.sub(' +',' ',x)))\n",
    "\n"
   ]
  },
  {
   "cell_type": "code",
   "execution_count": 17,
   "metadata": {},
   "outputs": [
    {
     "name": "stdout",
     "output_type": "stream",
     "text": [
      "0          0\n",
      "1          0\n",
      "2          0\n",
      "3          0\n",
      "4          0\n",
      "          ..\n",
      "1123047    0\n",
      "1123048    0\n",
      "1123049    0\n",
      "1123050    0\n",
      "1123051    0\n",
      "Name: label, Length: 1123052, dtype: int64\n"
     ]
    }
   ],
   "source": [
    "print(dataframe['label'])"
   ]
  },
  {
   "cell_type": "code",
   "execution_count": 18,
   "metadata": {},
   "outputs": [
    {
     "name": "stdout",
     "output_type": "stream",
     "text": [
      "0          how to tell if a guy is gay if they seem super...\n",
      "1          how to william tell if a guy is gay if they se...\n",
      "2          how to state if a guy is gay if they seem supe...\n",
      "3          how to say if a guy is gay if they seem super ...\n",
      "4          how to narrate if a guy is gay if they seem su...\n",
      "                                 ...                        \n",
      "1123047                               hunter helen hayes omg\n",
      "1123048                       hunter rutherford b. hayes omg\n",
      "1123049                 hunter rutherford birchard hayes omg\n",
      "1123050                           hunter president hayes omg\n",
      "1123051                                       hunter hay omg\n",
      "Name: comment, Length: 1123052, dtype: object\n"
     ]
    }
   ],
   "source": [
    "print(dataframe['comment'])"
   ]
  },
  {
   "cell_type": "code",
   "execution_count": 19,
   "metadata": {},
   "outputs": [],
   "source": [
    "#split the data into training and validation sets\n",
    "train_x, valid_x2, train_y, valid_y2 = train_test_split(dataframe['comment'], dataframe['label'], test_size=0.001, random_state=42)"
   ]
  },
  {
   "cell_type": "code",
   "execution_count": 20,
   "metadata": {},
   "outputs": [],
   "source": [
    "df_csv = pd.read_csv('formspring_all.csv')"
   ]
  },
  {
   "cell_type": "code",
   "execution_count": 21,
   "metadata": {},
   "outputs": [
    {
     "name": "stdout",
     "output_type": "stream",
     "text": [
      "12721\n",
      "12721\n",
      "12721\n"
     ]
    }
   ],
   "source": [
    "#marge all data from files that has been read\n",
    "\n",
    "q_a=[]\n",
    "label=[]\n",
    "for i in range(len(df_csv)):\n",
    "    label.append(int(df_csv['label'][i]))\n",
    "    q_a.append(df_csv['q_a'][i])\n",
    "print(len(q_a))\n",
    "print(len(label))\n",
    "# text cleaning\n",
    "w=list(string.ascii_lowercase)\n",
    "QA=[]\n",
    "for i in q_a:\n",
    "    sen=i.replace('@USER','')\n",
    "    sen=sen.replace('@user','')\n",
    "    sen=sen.replace(\"#\", ' ')\n",
    "    sen=sen.replace(\"@\", '')\n",
    "    sen=sen.replace(\"pu**y\", 'pussy')\n",
    "    sen=sen.replace(\" mofo \", ' motherfucker')\n",
    "    sen=sen.replace(\"NEWLINE_TOKEN\", \" \")\n",
    "    sen=sen.replace(\"TAB_TOKEN\", \" \")\n",
    "    sen=sen.replace(\"??\", '?')\n",
    "    sen=sen.replace(\"? ?\", '?')\n",
    "    sen=sen.replace(\"??\", '?')\n",
    "    sen=sen.replace(\"? ?\", '?')\n",
    "    sen=sen.replace(\"? ?\", '?')\n",
    "    sen=sen.replace(\"? ?\", '?')\n",
    "    sen=sen.replace(\"?\", ' ? ')\n",
    "    sen=sen.replace(\"!\", ' ! ')\n",
    "    sen=sen.replace(\" y \", ' why ')\n",
    "    sen=sen.replace(\" u \", ' you ')\n",
    "    sen=sen.replace(\" w \", ' with ')\n",
    "    sen=sen.replace(\" mf \", ' motherfucker ')\n",
    "    sen=sen.replace(\" IDGAF \", ' i dont give a fuck ')\n",
    "    sen=sen.replace(\" IDRC \", ' I Dont Really Care ')\n",
    "    sen=sen.replace(\" tf \", ' the fuck ')\n",
    "    sen=sen.replace(\"wtf \", 'what the fuck ')\n",
    "    sen=sen.replace(\" yanno \", ' you know ')\n",
    "    sen=sen.replace(\" igt \", ' i know right ')\n",
    "    sen=sen.replace(\" r \", ' are ')\n",
    "    sen=sen.replace(\" tbh \", ' to be honest ')\n",
    "    sen=sen.replace(\" ik \", ' i know ')\n",
    "    sen=sen.replace(\" af \", ' as fuck ')\n",
    "    sen=sen.replace(\" hes \", ' he is ')\n",
    "    sen=sen.replace(\" des \", ' this ')\n",
    "    sen=sen.replace(\" bout \", ' about ')\n",
    "    sen=sen.replace(\" em \", ' them ')\n",
    "    sen=sen.replace(\" stg \", ' swear to god ')\n",
    "    sen=sen.replace(\" bj \", ' blow job ')\n",
    "    sen=sen.replace(\" ig \", ' i guess ')\n",
    "    sen=sen.replace(\" fagg \", ' faggot ')\n",
    "    sen=sen.replace(\" fag \", ' faggot ')\n",
    "    sen=sen.replace(\" fagot \", ' faggot ')\n",
    "    sen=sen.replace(\" tfw \", ' That Feel When ')\n",
    "    sen=sen.replace(\" wa \", ' was ')\n",
    "    sen=sen.replace(\" n \", ' and ')\n",
    "    sen=sen.replace(\" y0 \", ' you ')\n",
    "    sen=sen.replace(\" dat \", ' that ')\n",
    "    sen=sen.replace(\" yo \", ' you ')\n",
    "    sen=sen.replace(\"youre \", ' you are ')\n",
    "    sen=sen.replace(\" v \", ' vagina ')\n",
    "    sen=sen.replace(\" pusy \", ' pussy ')\n",
    "    sen=sen.replace(\" pusy\", ' pussy ')\n",
    "    sen=sen.replace(\"pussie\", 'pussy')\n",
    "    sen=sen.replace(\" v.\", ' vagina ')\n",
    "    sen=sen.replace(\" doggystyle \", ' doggy style ')\n",
    "    sen=sen.replace(\"di ck\", 'dick')\n",
    "    sen=sen.replace(\"r you\", 'are you')\n",
    "    sen=sen.replace(\"r u\", 'are you')\n",
    "    sen=sen.replace(\"f*ck\", 'fuck')\n",
    "    sen=sen.replace(\"f**\", 'fuck')\n",
    "    sen=sen.replace(\" fxk \", 'fuck')\n",
    "    sen=sen.replace(\" wil \", 'will')\n",
    "    sen=sen.replace(\" il \", 'i will')\n",
    "    sen=sen.replace(\" asss \", ' ass ')\n",
    "    sen=sen.replace(\" lifeles \", ' lifeless ')\n",
    "    sen=sen.replace(\" ugler \", ' uglier ')\n",
    "    sen=sen.replace(\" you're \", ' you are ') \n",
    "    sen=sen.replace(\",\", ' ') \n",
    "    sen=sen.replace(\"?\", '.') \n",
    "    sen=sen.lower()\n",
    "    for s in w:\n",
    "        n=s+s+s\n",
    "        sen=sen.replace(n, s)\n",
    "    sen=\" \".join(sen.split())\n",
    "    QA.append(sen)\n",
    "# print(QA)\n",
    "q_a=QA\n",
    "print(len(q_a))"
   ]
  },
  {
   "cell_type": "code",
   "execution_count": 22,
   "metadata": {},
   "outputs": [],
   "source": [
    "# Read data files\n",
    "comments_attack2=pd.DataFrame()\n",
    "comments_attack2['comment2']=q_a\n",
    "comments_attack2['label2']=label"
   ]
  },
  {
   "cell_type": "code",
   "execution_count": 23,
   "metadata": {},
   "outputs": [],
   "source": [
    "dataframe = comments_attack2\n",
    "\n",
    "# Text preprocessing\n",
    "# dataframe['comment'] = dataframe['comment'].apply(lambda x: x.replace(\"NEWLINE_TOKEN\", \" \"))\n",
    "# dataframe['comment'] = dataframe['comment'].apply(lambda x: x.replace(\"TAB_TOKEN\", \" \"))\n",
    "# dataframe['comment'] = dataframe['comment'].apply(lambda x: x.lower())\n",
    "# dataframe['comment'] = dataframe['comment'].apply((lambda x: re.sub('[/(){}\\[\\]\\|@,;]','',x)))\n",
    "# dataframe['comment'] = dataframe['comment'].apply((lambda x: re.sub('[^0-9a-z #+_]','',x)))\n",
    "# dataframe['comment'] = dataframe['comment'].apply((lambda x: re.sub(' +',' ',x)))\n"
   ]
  },
  {
   "cell_type": "code",
   "execution_count": 24,
   "metadata": {},
   "outputs": [],
   "source": [
    "#split the data into training and validation sets\n",
    "train_x2, valid_x, train_2, valid_y = train_test_split(dataframe['comment2'], dataframe['label2'], test_size=0.9, random_state=42)"
   ]
  },
  {
   "cell_type": "code",
   "execution_count": 25,
   "metadata": {},
   "outputs": [
    {
     "name": "stdout",
     "output_type": "stream",
     "text": [
      "train comments length:  1121928\n",
      "test comments length:  11449\n",
      "train comments length:  1121928\n",
      "test comments length:  11449\n"
     ]
    }
   ],
   "source": [
    "print('train comments length: ',len(train_x))\n",
    "print('test comments length: ',len(valid_x))\n",
    "\n",
    "print('train comments length: ',len(train_y))\n",
    "print('test comments length: ',len(valid_y))"
   ]
  },
  {
   "cell_type": "code",
   "execution_count": 26,
   "metadata": {},
   "outputs": [],
   "source": [
    "# load the pre-trained word-embedding vectors \n",
    "embeddings_index = {}\n",
    "for i, line in enumerate(open('data/wiki-news-300d-1M.vec', encoding=\"utf8\")):\n",
    "    values = line.split()\n",
    "    embeddings_index[values[0]] = np.asarray(values[1:], dtype='float32')\n",
    "\n",
    "# create a tokenizer \n",
    "token = text.Tokenizer()\n",
    "token.fit_on_texts(dataframe['comment2'])\n",
    "word_index = token.word_index\n",
    "\n",
    "# convert text to sequence of tokens and pad them to ensure e\n",
    "# qual length vectors \n",
    "train_seq_x = sequence.pad_sequences(token.texts_to_sequences(train_x), maxlen=70)\n",
    "valid_seq_x = sequence.pad_sequences(token.texts_to_sequences(valid_x), maxlen=70)\n",
    "\n",
    "# create token-embedding mapping\n",
    "embedding_matrix = np.zeros((len(word_index) + 1, 300))\n",
    "for word, i in word_index.items():\n",
    "    embedding_vector = embeddings_index.get(word)\n",
    "    if embedding_vector is not None:\n",
    "        embedding_matrix[i] = embedding_vector"
   ]
  },
  {
   "cell_type": "code",
   "execution_count": 27,
   "metadata": {},
   "outputs": [],
   "source": [
    "# convert to one_hot\n",
    "train_y_onehot = keras.utils.to_categorical(train_y, 3)\n",
    "valid_y_onehot = keras.utils.to_categorical(valid_y, 3)"
   ]
  },
  {
   "cell_type": "code",
   "execution_count": 29,
   "metadata": {},
   "outputs": [],
   "source": [
    "def cnn(xtrain, ytrain, xvalid, yvalid, epochs = 3):\n",
    "    # Add an Input Layer\n",
    "    input_layer = layers.Input((70, ))\n",
    "\n",
    "    # Add the word embedding Layer\n",
    "    embedding_layer = layers.Embedding(len(word_index) + 1, 300, weights=[embedding_matrix], trainable=False)(input_layer)\n",
    "    embedding_layer = layers.SpatialDropout1D(0.3)(embedding_layer)\n",
    "\n",
    "    # Add the convolutional Layer\n",
    "    conv_layer = layers.Convolution1D(100, 3, activation=\"relu\")(embedding_layer)\n",
    "\n",
    "    # Add the pooling Layer\n",
    "    pooling_layer = layers.GlobalMaxPool1D()(conv_layer)\n",
    "\n",
    "    # Add the output Layers\n",
    "    output_layer1 = layers.Dense(50, activation=\"relu\")(pooling_layer)\n",
    "    output_layer1 = layers.Dropout(0.25)(output_layer1)\n",
    "    output_layer2 = layers.Dense(3, activation=\"softmax\")(output_layer1)\n",
    "\n",
    "    # Compile the model\n",
    "    model = models.Model(inputs=input_layer, outputs=output_layer2)\n",
    "    model.compile(optimizer='adam', loss='categorical_crossentropy',  metrics=['accuracy'])\n",
    "    model.fit(xtrain, ytrain,\n",
    "              batch_size=256,\n",
    "              epochs=epochs)\n",
    "    predictions = model.predict(xvalid)\n",
    "    predictions = predictions.argmax(axis=-1)\n",
    "    accuracy = model.evaluate(xvalid, yvalid, verbose=0)\n",
    "    f1score = metrics.f1_score(valid_y, predictions, average='weighted')\n",
    "    return accuracy, f1score"
   ]
  },
  {
   "cell_type": "code",
   "execution_count": 30,
   "metadata": {},
   "outputs": [
    {
     "name": "stdout",
     "output_type": "stream",
     "text": [
      "Epoch 1/3\n",
      "1121928/1121928 [==============================] - 601s 535us/step - loss: 0.0735 - accuracy: 0.9739\n",
      "Epoch 2/3\n",
      "1121928/1121928 [==============================] - 515s 459us/step - loss: 0.0286 - accuracy: 0.9898\n",
      "Epoch 3/3\n",
      "1121928/1121928 [==============================] - 361s 322us/step - loss: 0.0223 - accuracy: 0.9920\n",
      "CNN, Word Embeddings acuuracy accuracy:0.9380732178688049     f1 score: 0.935182906763191\n"
     ]
    }
   ],
   "source": [
    "#askfm 100k tasining datasets and fromspring 11k as a test datasets\n",
    "accuracy, f1score = cnn(train_seq_x, train_y_onehot, valid_seq_x, valid_y_onehot)\n",
    "print(\"CNN, Word Embeddings acuuracy accuracy:%s     f1 score: %s\"% (accuracy[1], f1score))"
   ]
  }
 ],
 "metadata": {
  "kernelspec": {
   "display_name": "Python 3",
   "language": "python",
   "name": "python3"
  },
  "language_info": {
   "codemirror_mode": {
    "name": "ipython",
    "version": 3
   },
   "file_extension": ".py",
   "mimetype": "text/x-python",
   "name": "python",
   "nbconvert_exporter": "python",
   "pygments_lexer": "ipython3",
   "version": "3.7.4"
  }
 },
 "nbformat": 4,
 "nbformat_minor": 2
}
