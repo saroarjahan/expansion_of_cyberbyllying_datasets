{
 "cells": [
  {
   "cell_type": "code",
   "execution_count": 117,
   "metadata": {},
   "outputs": [],
   "source": [
    "import textaugment\n",
    "import numpy as np\n",
    "import pandas as pd\n",
    "import tensorflow as tf\n",
    "from tensorflow.keras.preprocessing import sequence\n",
    "from tensorflow.keras.models import Sequential\n",
    "from tensorflow.keras.layers import Dense, Dropout, Activation\n",
    "from tensorflow.keras.layers import Embedding\n",
    "from tensorflow.keras.layers import Conv1D, GlobalMaxPooling1D\n",
    "from tensorflow.keras.datasets import imdb\n",
    "from textaugment import MIXUP\n",
    "%matplotlib inline\n",
    "\n",
    "# importing dependencies\n",
    "import pandas as pd\n",
    "import numpy as np\n",
    "from sklearn import model_selection, preprocessing, linear_model, naive_bayes, metrics, svm\n",
    "from sklearn.feature_extraction.text import TfidfVectorizer, CountVectorizer\n",
    "from keras.preprocessing import text, sequence\n",
    "from keras import layers, models, optimizers\n",
    "import keras\n",
    "import re\n",
    "from sklearn.model_selection import train_test_split\n",
    "from sklearn.pipeline import Pipeline\n",
    "from sklearn.metrics import roc_auc_score\n",
    "from sklearn.feature_extraction.text import TfidfVectorizer, CountVectorizer\n",
    "from sklearn import decomposition, ensemble\n",
    "import pandas as pd\n",
    "import matplotlib.pyplot as plt\n",
    "import nltk\n",
    "from nltk.stem import PorterStemmer\n",
    "from nltk.tokenize import word_tokenize\n",
    "from nltk.corpus import wordnet as wn\n",
    "from nltk.corpus import wordnet\n",
    "from pywsd import disambiguate\n",
    "from pywsd.similarity import max_similarity as maxsim\n",
    "from nltk.wsd import lesk\n",
    "import string"
   ]
  },
  {
   "cell_type": "code",
   "execution_count": null,
   "metadata": {},
   "outputs": [],
   "source": [
    "tf.__version__"
   ]
  },
  {
   "cell_type": "code",
   "execution_count": null,
   "metadata": {},
   "outputs": [],
   "source": [
    "textaugment.__version__"
   ]
  },
  {
   "cell_type": "code",
   "execution_count": 54,
   "metadata": {},
   "outputs": [],
   "source": [
    "# set parameters:\n",
    "max_features = 5000\n",
    "maxlen = 400\n",
    "batch_size = 32\n",
    "embedding_dims = 50\n",
    "filters = 250\n",
    "kernel_size = 3\n",
    "hidden_dims = 250\n",
    "epochs = 2\n",
    "runs = 1"
   ]
  },
  {
   "cell_type": "code",
   "execution_count": 119,
   "metadata": {},
   "outputs": [
    {
     "data": {
      "text/html": [
       "<div>\n",
       "<style scoped>\n",
       "    .dataframe tbody tr th:only-of-type {\n",
       "        vertical-align: middle;\n",
       "    }\n",
       "\n",
       "    .dataframe tbody tr th {\n",
       "        vertical-align: top;\n",
       "    }\n",
       "\n",
       "    .dataframe thead th {\n",
       "        text-align: right;\n",
       "    }\n",
       "</style>\n",
       "<table border=\"1\" class=\"dataframe\">\n",
       "  <thead>\n",
       "    <tr style=\"text-align: right;\">\n",
       "      <th></th>\n",
       "      <th>Unnamed: 0</th>\n",
       "      <th>q_a</th>\n",
       "      <th>label</th>\n",
       "    </tr>\n",
       "  </thead>\n",
       "  <tbody>\n",
       "    <tr>\n",
       "      <td>0</td>\n",
       "      <td>0</td>\n",
       "      <td>how to tell if a guy is gay if they seem super...</td>\n",
       "      <td>0</td>\n",
       "    </tr>\n",
       "    <tr>\n",
       "      <td>1</td>\n",
       "      <td>1</td>\n",
       "      <td>Idk I'm not gay</td>\n",
       "      <td>0</td>\n",
       "    </tr>\n",
       "    <tr>\n",
       "      <td>2</td>\n",
       "      <td>2</td>\n",
       "      <td>This person is 100% fake so beware Isabella!</td>\n",
       "      <td>1</td>\n",
       "    </tr>\n",
       "    <tr>\n",
       "      <td>3</td>\n",
       "      <td>3</td>\n",
       "      <td>Oof lmao how is she fake? Who's this lmao shit...</td>\n",
       "      <td>1</td>\n",
       "    </tr>\n",
       "    <tr>\n",
       "      <td>4</td>\n",
       "      <td>4</td>\n",
       "      <td>If your loved one left n cut all ties w you sh...</td>\n",
       "      <td>0</td>\n",
       "    </tr>\n",
       "    <tr>\n",
       "      <td>...</td>\n",
       "      <td>...</td>\n",
       "      <td>...</td>\n",
       "      <td>...</td>\n",
       "    </tr>\n",
       "    <tr>\n",
       "      <td>9993</td>\n",
       "      <td>9993</td>\n",
       "      <td>Basically anything omg</td>\n",
       "      <td>0</td>\n",
       "    </tr>\n",
       "    <tr>\n",
       "      <td>9994</td>\n",
       "      <td>9994</td>\n",
       "      <td>Why is it that when I ask someone so random as...</td>\n",
       "      <td>0</td>\n",
       "    </tr>\n",
       "    <tr>\n",
       "      <td>9995</td>\n",
       "      <td>9995</td>\n",
       "      <td>Thats when my bitch mode comes out</td>\n",
       "      <td>0</td>\n",
       "    </tr>\n",
       "    <tr>\n",
       "      <td>9996</td>\n",
       "      <td>9996</td>\n",
       "      <td>Post a picture of your favorite celebrity!</td>\n",
       "      <td>0</td>\n",
       "    </tr>\n",
       "    <tr>\n",
       "      <td>9997</td>\n",
       "      <td>9997</td>\n",
       "      <td>Hunter Hayes omg</td>\n",
       "      <td>0</td>\n",
       "    </tr>\n",
       "  </tbody>\n",
       "</table>\n",
       "<p>9998 rows × 3 columns</p>\n",
       "</div>"
      ],
      "text/plain": [
       "      Unnamed: 0                                                q_a  label\n",
       "0              0  how to tell if a guy is gay if they seem super...      0\n",
       "1              1                                    Idk I'm not gay      0\n",
       "2              2      This person is 100% fake so beware Isabella!       1\n",
       "3              3  Oof lmao how is she fake? Who's this lmao shit...      1\n",
       "4              4  If your loved one left n cut all ties w you sh...      0\n",
       "...          ...                                                ...    ...\n",
       "9993        9993                             Basically anything omg      0\n",
       "9994        9994  Why is it that when I ask someone so random as...      0\n",
       "9995        9995                 Thats when my bitch mode comes out      0\n",
       "9996        9996        Post a picture of your favorite celebrity!       0\n",
       "9997        9997                                   Hunter Hayes omg      0\n",
       "\n",
       "[9998 rows x 3 columns]"
      ]
     },
     "execution_count": 119,
     "metadata": {},
     "output_type": "execute_result"
    }
   ],
   "source": [
    "df_csv= pd.read_csv('ask_fm_data.csv')\n",
    "df_csv.head(10100)"
   ]
  },
  {
   "cell_type": "code",
   "execution_count": 120,
   "metadata": {},
   "outputs": [
    {
     "name": "stdout",
     "output_type": "stream",
     "text": [
      "9998\n",
      "9998\n"
     ]
    }
   ],
   "source": [
    "#marge all data from files that has been read\n",
    "q_a=[]\n",
    "label=[]\n",
    "for i in range(len(df_csv)):\n",
    "    label.append(int(df_csv['label'][i]))\n",
    "    q_a.append(df_csv['q_a'][i])\n",
    "print(len(q_a))\n",
    "print(len(label))"
   ]
  },
  {
   "cell_type": "code",
   "execution_count": 149,
   "metadata": {},
   "outputs": [
    {
     "name": "stdout",
     "output_type": "stream",
     "text": [
      "9998\n"
     ]
    }
   ],
   "source": [
    "import string\n",
    "# text cleaning\n",
    "w=list(string.ascii_lowercase)\n",
    "QA=[]\n",
    "for i in q_a:\n",
    "    sen=i.replace('@USER','')\n",
    "    sen=sen.replace('@user','')\n",
    "    sen=sen.replace(\"#\", ' ')\n",
    "    sen=sen.replace(\"@\", '')\n",
    "    sen=sen.replace(\"pu**y\", 'pussy')\n",
    "    sen=sen.replace(\" mofo \", ' motherfucker')\n",
    "    sen=sen.replace(\"NEWLINE_TOKEN\", \" \")\n",
    "    sen=sen.replace(\"TAB_TOKEN\", \" \")\n",
    "    sen=sen.replace(\"??\", '?')\n",
    "    sen=sen.replace(\"? ?\", '?')\n",
    "    sen=sen.replace(\"??\", '?')\n",
    "    sen=sen.replace(\"? ?\", '?')\n",
    "    sen=sen.replace(\"? ?\", '?')\n",
    "    sen=sen.replace(\"? ?\", '?')\n",
    "    sen=sen.replace(\"?\", ' ? ')\n",
    "    sen=sen.replace(\"!\", ' ! ')\n",
    "    sen=sen.replace(\" y \", ' why ')\n",
    "    sen=sen.replace(\" u \", ' you ')\n",
    "    sen=sen.replace(\" w \", ' with ')\n",
    "    sen=sen.replace(\" mf \", ' motherfucker ')\n",
    "    sen=sen.replace(\" IDGAF \", ' i dont give a fuck ')\n",
    "    sen=sen.replace(\" IDRC \", ' I Dont Really Care ')\n",
    "    sen=sen.replace(\" tf \", ' the fuck ')\n",
    "    sen=sen.replace(\"wtf \", 'what the fuck ')\n",
    "    sen=sen.replace(\" yanno \", ' you know ')\n",
    "    sen=sen.replace(\" igt \", ' i know right ')\n",
    "    sen=sen.replace(\" r \", ' are ')\n",
    "    sen=sen.replace(\" tbh \", ' to be honest ')\n",
    "    sen=sen.replace(\" ik \", ' i know ')\n",
    "    sen=sen.replace(\" af \", ' as fuck ')\n",
    "    sen=sen.replace(\" hes \", ' he is ')\n",
    "    sen=sen.replace(\" des \", ' this ')\n",
    "    sen=sen.replace(\" bout \", ' about ')\n",
    "    sen=sen.replace(\" em \", ' them ')\n",
    "    sen=sen.replace(\" stg \", ' swear to god ')\n",
    "    sen=sen.replace(\" bj \", ' blow job ')\n",
    "    sen=sen.replace(\" ig \", ' i guess ')\n",
    "    sen=sen.replace(\" fagg \", ' faggot ')\n",
    "    sen=sen.replace(\" fag \", ' faggot ')\n",
    "    sen=sen.replace(\" fagot \", ' faggot ')\n",
    "    sen=sen.replace(\" tfw \", ' That Feel When ')\n",
    "    sen=sen.replace(\" wa \", ' was ')\n",
    "    sen=sen.replace(\" n \", ' and ')\n",
    "    sen=sen.replace(\" y0 \", ' you ')\n",
    "    sen=sen.replace(\" dat \", ' that ')\n",
    "    sen=sen.replace(\" yo \", ' you ')\n",
    "    sen=sen.replace(\"youre \", ' you are ')\n",
    "    sen=sen.replace(\" v \", ' vagina ')\n",
    "    sen=sen.replace(\" pusy \", ' pussy ')\n",
    "    sen=sen.replace(\" pusy\", ' pussy ')\n",
    "    sen=sen.replace(\"pussie\", 'pussy')\n",
    "    sen=sen.replace(\" v.\", ' vagina ')\n",
    "    sen=sen.replace(\" doggystyle \", ' doggy style ')\n",
    "    sen=sen.replace(\"di ck\", 'dick')\n",
    "    sen=sen.replace(\"r you\", 'are you')\n",
    "    sen=sen.replace(\"r u\", 'are you')\n",
    "    sen=sen.replace(\"f*ck\", 'fuck')\n",
    "    sen=sen.replace(\"f**\", 'fuck')\n",
    "    sen=sen.replace(\" fxk \", 'fuck')\n",
    "    sen=sen.replace(\" wil \", 'will')\n",
    "    sen=sen.replace(\" il \", 'i will')\n",
    "    sen=sen.replace(\" asss \", ' ass ')\n",
    "    sen=sen.replace(\" lifeles \", ' lifeless ')\n",
    "    sen=sen.replace(\" ugler \", ' uglier ')\n",
    "    sen=sen.replace(\" you're \", ' you are ') \n",
    "    sen=sen.replace(\",\", ' ') \n",
    "    sen=sen.replace(\"?\", '.') \n",
    "    sen=sen.lower()\n",
    "    for s in w:\n",
    "        n=s+s+s\n",
    "        sen=sen.replace(n, s)\n",
    "    sen=\" \".join(sen.split())\n",
    "    QA.append(sen)\n",
    "# print(QA)\n",
    "q_a=QA\n",
    "print(len(q_a))"
   ]
  },
  {
   "cell_type": "code",
   "execution_count": 150,
   "metadata": {},
   "outputs": [],
   "source": [
    "# Read data files\n",
    "comments_attack=pd.DataFrame()\n",
    "comments_attack['comment']=q_a\n",
    "comments_attack['label']=label"
   ]
  },
  {
   "cell_type": "code",
   "execution_count": 151,
   "metadata": {},
   "outputs": [],
   "source": [
    "dataframe = comments_attack\n",
    "dataframe['comment'] = dataframe['comment'].apply(lambda x: x.replace(\"NEWLINE_TOKEN\", \" \"))\n",
    "dataframe['comment'] = dataframe['comment'].apply(lambda x: x.replace(\"TAB_TOKEN\", \" \"))\n",
    "dataframe['comment'] = dataframe['comment'].apply(lambda x: x.lower())\n",
    "dataframe['comment'] = dataframe['comment'].apply((lambda x: re.sub('[/(){}\\[\\]\\|@,;]','',x)))\n",
    "dataframe['comment'] = dataframe['comment'].apply((lambda x: re.sub('[^0-9a-z #+_]','',x)))\n",
    "dataframe['comment'] = dataframe['comment'].apply((lambda x: re.sub(' +',' ',x)))"
   ]
  },
  {
   "cell_type": "code",
   "execution_count": 162,
   "metadata": {},
   "outputs": [],
   "source": [
    "#split the data into training and validation sets\n",
    "train_x, valid_x, train_y, valid_y = train_test_split(dataframe['comment'], dataframe['label'], test_size=0.3, random_state=42)"
   ]
  },
  {
   "cell_type": "code",
   "execution_count": 166,
   "metadata": {},
   "outputs": [
    {
     "name": "stdout",
     "output_type": "stream",
     "text": [
      "6998\n",
      "3000\n",
      "6998\n",
      "3000\n"
     ]
    }
   ],
   "source": [
    "#split the data into numpy array\n",
    "y_train=np.array(train_y)\n",
    "y_test=np.array(valid_y)\n",
    "print(len(y_train))\n",
    "print(len(y_test))\n",
    "print(len(train_y))\n",
    "print(len(valid_y))"
   ]
  },
  {
   "cell_type": "code",
   "execution_count": 167,
   "metadata": {},
   "outputs": [
    {
     "name": "stdout",
     "output_type": "stream",
     "text": [
      "[[21  0  0 ...  0  5  0]\n",
      " [ 3  0  0 ...  0  0  0]\n",
      " [17  0  0 ...  0  2  0]\n",
      " ...\n",
      " [ 7  0  0 ...  1  3  0]\n",
      " [ 8  0  0 ...  0  2  0]\n",
      " [ 6  0  0 ...  0  2  0]]\n",
      "6998\n",
      "[[10  0  0 ...  0  1  0]\n",
      " [ 7  0  0 ...  0  2  0]\n",
      " [ 0  0  0 ...  0  1  0]\n",
      " ...\n",
      " [ 0  0  0 ...  0  0  0]\n",
      " [ 6  0  0 ...  0  2  0]\n",
      " [15  0  0 ...  0  2  0]]\n",
      "3000\n",
      "[0 0 0 ... 1 0 0]\n",
      "6998\n",
      "[0 0 0 ... 0 0 1]\n",
      "3000\n"
     ]
    }
   ],
   "source": [
    "# create a count vectorizer object \n",
    "count_vect = CountVectorizer(analyzer='word', token_pattern=r'.')\n",
    "count_vect.fit(dataframe['comment'])\n",
    "\n",
    "# transform the training and validation data using count vectorizer object\n",
    "x_train =  count_vect.transform(train_x).toarray()\n",
    "x_test =  count_vect.transform(valid_x).toarray()\n",
    "\n",
    "print(x_train)\n",
    "print(len(x_train))\n",
    "\n",
    "\n",
    "print(x_test)\n",
    "print(len(x_test))\n",
    "\n",
    "\n",
    "print(y_train)\n",
    "print(len(y_train))\n",
    "print(y_test)\n",
    "print(len(y_test))"
   ]
  },
  {
   "cell_type": "code",
   "execution_count": 168,
   "metadata": {},
   "outputs": [
    {
     "name": "stdout",
     "output_type": "stream",
     "text": [
      "Pad sequences (samples x time)\n",
      "x_train shape: (6998, 400)\n",
      "x_test shape: (3000, 400)\n"
     ]
    }
   ],
   "source": [
    "print('Pad sequences (samples x time)')\n",
    "x_train = sequence.pad_sequences(x_train, maxlen=maxlen)\n",
    "x_test = sequence.pad_sequences(x_test, maxlen=maxlen)\n",
    "print('x_train shape:', x_train.shape)\n",
    "print('x_test shape:', x_test.shape)"
   ]
  },
  {
   "cell_type": "code",
   "execution_count": 172,
   "metadata": {},
   "outputs": [
    {
     "name": "stdout",
     "output_type": "stream",
     "text": [
      "Build model...\n",
      "Model: \"sequential_18\"\n",
      "_________________________________________________________________\n",
      "Layer (type)                 Output Shape              Param #   \n",
      "=================================================================\n",
      "embedding_18 (Embedding)     (None, 400, 50)           250000    \n",
      "_________________________________________________________________\n",
      "dropout_36 (Dropout)         (None, 400, 50)           0         \n",
      "_________________________________________________________________\n",
      "conv1d_18 (Conv1D)           (None, 398, 250)          37750     \n",
      "_________________________________________________________________\n",
      "global_max_pooling1d_18 (Glo (None, 250)               0         \n",
      "_________________________________________________________________\n",
      "dense_36 (Dense)             (None, 250)               62750     \n",
      "_________________________________________________________________\n",
      "dropout_37 (Dropout)         (None, 250)               0         \n",
      "_________________________________________________________________\n",
      "activation_36 (Activation)   (None, 250)               0         \n",
      "_________________________________________________________________\n",
      "dense_37 (Dense)             (None, 1)                 251       \n",
      "_________________________________________________________________\n",
      "activation_37 (Activation)   (None, 1)                 0         \n",
      "=================================================================\n",
      "Total params: 350,751\n",
      "Trainable params: 350,751\n",
      "Non-trainable params: 0\n",
      "_________________________________________________________________\n"
     ]
    }
   ],
   "source": [
    "from keras.optimizers import RMSprop             \n",
    "print('Build model...')\n",
    "model2 = Sequential()\n",
    "\n",
    "# we start off with an efficient embedding layer which maps\n",
    "# our vocab indices into embedding_dims dimensions\n",
    "model2.add(Embedding(max_features,\n",
    "                    embedding_dims,\n",
    "                    input_length=maxlen))\n",
    "model2.add(Dropout(0.2))\n",
    "\n",
    "# we add a Convolution1D, which will learn filters\n",
    "# word group filters of size filter_length:\n",
    "model2.add(Conv1D(filters,\n",
    "                 kernel_size,\n",
    "                 padding='valid',\n",
    "                 activation='relu',\n",
    "                 strides=1))\n",
    "# we use max pooling:\n",
    "model2.add(GlobalMaxPooling1D())\n",
    "\n",
    "# We add a vanilla hidden layer:\n",
    "model2.add(Dense(hidden_dims))\n",
    "model2.add(Dropout(0.2))\n",
    "model2.add(Activation('relu'))\n",
    "\n",
    "# We project onto a single unit output layer, and squash it with a sigmoid:\n",
    "model2.add(Dense(1))\n",
    "model2.add(Activation('sigmoid'))\n",
    "\n",
    "model2.compile(loss='binary_crossentropy',\n",
    "              optimizer='RMSprop',\n",
    "              metrics=['accuracy'])\n",
    "model2.summary()"
   ]
  },
  {
   "cell_type": "code",
   "execution_count": 173,
   "metadata": {},
   "outputs": [
    {
     "name": "stdout",
     "output_type": "stream",
     "text": [
      "Train on 6998 samples, validate on 3000 samples\n",
      "Epoch 1/2\n",
      "6998/6998 [==============================] - 47s 7ms/sample - loss: 0.3736 - accuracy: 0.8803 - val_loss: 0.3898 - val_accuracy: 0.8763\n",
      "Epoch 2/2\n",
      "6998/6998 [==============================] - 44s 6ms/sample - loss: 0.3636 - accuracy: 0.8803 - val_loss: 0.3999 - val_accuracy: 0.8763\n"
     ]
    },
    {
     "data": {
      "text/plain": [
       "<matplotlib.axes._subplots.AxesSubplot at 0x2be2bd4f448>"
      ]
     },
     "execution_count": 173,
     "metadata": {},
     "output_type": "execute_result"
    },
    {
     "data": {
      "image/png": "[encoded data removed]",
      "text/plain": [
       "<Figure size 432x288 with 1 Axes>"
      ]
     },
     "metadata": {
      "needs_background": "light"
     },
     "output_type": "display_data"
    }
   ],
   "source": [
    "#run test with without mixup\n",
    "h2 = model2.fit(x_train, y_train,          \n",
    "          epochs=epochs,\n",
    "          validation_data=(x_test, y_test))\n",
    "\n",
    "pd.DataFrame(h1.history)[['loss','val_loss']].plot(title=\"With out mixup\")"
   ]
  },
  {
   "cell_type": "code",
   "execution_count": 159,
   "metadata": {},
   "outputs": [],
   "source": [
    "#use mixup function\n",
    "mixup = MIXUP()\n",
    "generator, step = mixup.flow(x_train, y_train, batch_size = batch_size, runs=runs)"
   ]
  },
  {
   "cell_type": "code",
   "execution_count": 144,
   "metadata": {},
   "outputs": [],
   "source": []
  },
  {
   "cell_type": "code",
   "execution_count": 145,
   "metadata": {},
   "outputs": [
    {
     "name": "stdout",
     "output_type": "stream",
     "text": [
      "200014\n",
      "200014\n"
     ]
    }
   ],
   "source": [
    "#mixup data sperate \n",
    "aug_t=[]\n",
    "aug_l=[]\n",
    "\n",
    "for x in generator: \n",
    "    if len(aug_t) < 200000:\n",
    "        for i in x[0]:\n",
    "            aug_t.append(i)\n",
    "\n",
    "        for j in x[1]:\n",
    "            aug_l.append(j)\n",
    "    else:\n",
    "        break\n",
    "        \n",
    "#mixup data sperate \n",
    "f_t=[]\n",
    "for i in aug_t:\n",
    "    f_t.append(i)\n",
    "ft=np.array(f_t)\n",
    "print(len(ft))\n",
    "\n",
    "\n",
    "f_l=[]\n",
    "for j in aug_l:\n",
    "    f_l.append(j)\n",
    "fl=np.array(f_l)\n",
    "print(len(fl))\n"
   ]
  },
  {
   "cell_type": "code",
   "execution_count": 160,
   "metadata": {},
   "outputs": [
    {
     "name": "stdout",
     "output_type": "stream",
     "text": [
      "Build model...\n",
      "Model: \"sequential_15\"\n",
      "_________________________________________________________________\n",
      "Layer (type)                 Output Shape              Param #   \n",
      "=================================================================\n",
      "embedding_15 (Embedding)     (None, 400, 50)           250000    \n",
      "_________________________________________________________________\n",
      "dropout_30 (Dropout)         (None, 400, 50)           0         \n",
      "_________________________________________________________________\n",
      "conv1d_15 (Conv1D)           (None, 398, 250)          37750     \n",
      "_________________________________________________________________\n",
      "global_max_pooling1d_15 (Glo (None, 250)               0         \n",
      "_________________________________________________________________\n",
      "dense_30 (Dense)             (None, 250)               62750     \n",
      "_________________________________________________________________\n",
      "dropout_31 (Dropout)         (None, 250)               0         \n",
      "_________________________________________________________________\n",
      "activation_30 (Activation)   (None, 250)               0         \n",
      "_________________________________________________________________\n",
      "dense_31 (Dense)             (None, 1)                 251       \n",
      "_________________________________________________________________\n",
      "activation_31 (Activation)   (None, 1)                 0         \n",
      "=================================================================\n",
      "Total params: 350,751\n",
      "Trainable params: 350,751\n",
      "Non-trainable params: 0\n",
      "_________________________________________________________________\n"
     ]
    }
   ],
   "source": [
    "print('Build model...')\n",
    "model = Sequential()\n",
    "\n",
    "# we start off with an efficient embedding layer which maps\n",
    "# our vocab indices into embedding_dims dimensions\n",
    "model.add(Embedding(max_features,\n",
    "                    embedding_dims,\n",
    "                    input_length=maxlen))\n",
    "model.add(Dropout(0.2))\n",
    "\n",
    "# we add a Convolution1D, which will learn filters\n",
    "# word group filters of size filter_length:\n",
    "model.add(Conv1D(filters,\n",
    "                 kernel_size,\n",
    "                 padding='valid',\n",
    "                 activation='relu',\n",
    "                 strides=1))\n",
    "# we use max pooling:\n",
    "model.add(GlobalMaxPooling1D())\n",
    "\n",
    "# We add a vanilla hidden layer:\n",
    "model.add(Dense(hidden_dims))\n",
    "model.add(Dropout(0.2))\n",
    "model.add(Activation('relu'))\n",
    "\n",
    "# We project onto a single unit output layer, and squash it with a sigmoid:\n",
    "model.add(Dense(1))\n",
    "model.add(Activation('sigmoid'))\n",
    "\n",
    "model.compile(loss='binary_crossentropy',\n",
    "              optimizer='adam',\n",
    "              metrics=['accuracy'])\n",
    "model.summary()"
   ]
  },
  {
   "cell_type": "code",
   "execution_count": 161,
   "metadata": {},
   "outputs": [
    {
     "name": "stdout",
     "output_type": "stream",
     "text": [
      "Train for 157 steps, validate on 4999 samples\n",
      "Epoch 1/2\n",
      "157/157 [==============================] - 49s 312ms/step - loss: 0.3947 - accuracy: 0.7644 - val_loss: 0.4004 - val_accuracy: 0.8832\n",
      "Epoch 2/2\n",
      "157/157 [==============================] - 47s 300ms/step - loss: 0.3750 - accuracy: 0.7698 - val_loss: 0.3731 - val_accuracy: 0.8832\n"
     ]
    }
   ],
   "source": [
    "#run test with mixup\n",
    "h1 = model.fit(generator, steps_per_epoch=step,\n",
    "          epochs=epochs,\n",
    "          validation_data=(x_test, y_test))"
   ]
  },
  {
   "cell_type": "code",
   "execution_count": 38,
   "metadata": {},
   "outputs": [
    {
     "data": {
      "text/plain": [
       "<matplotlib.axes._subplots.AxesSubplot at 0x2be1525cc88>"
      ]
     },
     "execution_count": 38,
     "metadata": {},
     "output_type": "execute_result"
    },
    {
     "data": {
      "image/png": "[encoded data removed]",
      "text/plain": [
       "<Figure size 432x288 with 1 Axes>"
      ]
     },
     "metadata": {
      "needs_background": "light"
     },
     "output_type": "display_data"
    }
   ],
   "source": []
  },
  {
   "cell_type": "code",
   "execution_count": 107,
   "metadata": {},
   "outputs": [
    {
     "name": "stdout",
     "output_type": "stream",
     "text": [
      "Build model...\n",
      "Model: \"sequential_10\"\n",
      "_________________________________________________________________\n",
      "Layer (type)                 Output Shape              Param #   \n",
      "=================================================================\n",
      "embedding_10 (Embedding)     (None, 400, 50)           250000    \n",
      "_________________________________________________________________\n",
      "dropout_20 (Dropout)         (None, 400, 50)           0         \n",
      "_________________________________________________________________\n",
      "conv1d_10 (Conv1D)           (None, 398, 250)          37750     \n",
      "_________________________________________________________________\n",
      "global_max_pooling1d_10 (Glo (None, 250)               0         \n",
      "_________________________________________________________________\n",
      "dense_20 (Dense)             (None, 250)               62750     \n",
      "_________________________________________________________________\n",
      "dropout_21 (Dropout)         (None, 250)               0         \n",
      "_________________________________________________________________\n",
      "activation_20 (Activation)   (None, 250)               0         \n",
      "_________________________________________________________________\n",
      "dense_21 (Dense)             (None, 1)                 251       \n",
      "_________________________________________________________________\n",
      "activation_21 (Activation)   (None, 1)                 0         \n",
      "=================================================================\n",
      "Total params: 350,751\n",
      "Trainable params: 350,751\n",
      "Non-trainable params: 0\n",
      "_________________________________________________________________\n"
     ]
    }
   ],
   "source": []
  },
  {
   "cell_type": "code",
   "execution_count": 109,
   "metadata": {},
   "outputs": [
    {
     "data": {
      "text/plain": [
       "<matplotlib.axes._subplots.AxesSubplot at 0x2be19ec9088>"
      ]
     },
     "execution_count": 109,
     "metadata": {},
     "output_type": "execute_result"
    },
    {
     "data": {
      "image/png": "[encoded data removed]",
      "text/plain": [
       "<Figure size 432x288 with 1 Axes>"
      ]
     },
     "metadata": {
      "needs_background": "light"
     },
     "output_type": "display_data"
    }
   ],
   "source": [
    "pd.DataFrame(h2.history)[['loss','val_loss']].plot(title=\"Without mixup\")"
   ]
  },
  {
   "cell_type": "code",
   "execution_count": 108,
   "metadata": {},
   "outputs": [
    {
     "name": "stdout",
     "output_type": "stream",
     "text": [
      "Train on 7998 samples, validate on 2000 samples\n",
      "Epoch 1/2\n",
      "7998/7998 [==============================] - 13s 2ms/sample - loss: 0.3760 - accuracy: 0.8807 - val_loss: 0.3833 - val_accuracy: 0.8725\n",
      "Epoch 2/2\n",
      "7998/7998 [==============================] - 15s 2ms/sample - loss: 0.3646 - accuracy: 0.8807 - val_loss: 0.3809 - val_accuracy: 0.8725\n"
     ]
    }
   ],
   "source": [
    "\n"
   ]
  },
  {
   "cell_type": "code",
   "execution_count": 110,
   "metadata": {},
   "outputs": [
    {
     "name": "stdout",
     "output_type": "stream",
     "text": [
      "Build model...\n",
      "Model: \"sequential_11\"\n",
      "_________________________________________________________________\n",
      "Layer (type)                 Output Shape              Param #   \n",
      "=================================================================\n",
      "embedding_11 (Embedding)     (None, 400, 50)           250000    \n",
      "_________________________________________________________________\n",
      "dropout_22 (Dropout)         (None, 400, 50)           0         \n",
      "_________________________________________________________________\n",
      "conv1d_11 (Conv1D)           (None, 398, 250)          37750     \n",
      "_________________________________________________________________\n",
      "global_max_pooling1d_11 (Glo (None, 250)               0         \n",
      "_________________________________________________________________\n",
      "dense_22 (Dense)             (None, 250)               62750     \n",
      "_________________________________________________________________\n",
      "dropout_23 (Dropout)         (None, 250)               0         \n",
      "_________________________________________________________________\n",
      "activation_22 (Activation)   (None, 250)               0         \n",
      "_________________________________________________________________\n",
      "dense_23 (Dense)             (None, 1)                 251       \n",
      "_________________________________________________________________\n",
      "activation_23 (Activation)   (None, 1)                 0         \n",
      "=================================================================\n",
      "Total params: 350,751\n",
      "Trainable params: 350,751\n",
      "Non-trainable params: 0\n",
      "_________________________________________________________________\n"
     ]
    }
   ],
   "source": [
    "print('Build model...')\n",
    "model3 = Sequential()\n",
    "\n",
    "# we start off with an efficient embedding layer which maps\n",
    "# our vocab indices into embedding_dims dimensions\n",
    "model3.add(Embedding(max_features,\n",
    "                    embedding_dims,\n",
    "                    input_length=maxlen))\n",
    "model3.add(Dropout(0.2))\n",
    "\n",
    "# we add a Convolution1D, which will learn filters\n",
    "# word group filters of size filter_length:\n",
    "model3.add(Conv1D(filters,\n",
    "                 kernel_size,\n",
    "                 padding='valid',\n",
    "                 activation='relu',\n",
    "                 strides=1))\n",
    "# we use max pooling:\n",
    "model3.add(GlobalMaxPooling1D())\n",
    "\n",
    "# We add a vanilla hidden layer:\n",
    "model3.add(Dense(hidden_dims))\n",
    "model3.add(Dropout(0.2))\n",
    "model3.add(Activation('relu'))\n",
    "\n",
    "# We project onto a single unit output layer, and squash it with a sigmoid:\n",
    "model3.add(Dense(1))\n",
    "model3.add(Activation('sigmoid'))\n",
    "\n",
    "model3.compile(loss='binary_crossentropy',\n",
    "              optimizer='adam',\n",
    "              metrics=['accuracy'])\n",
    "model3.summary()"
   ]
  },
  {
   "cell_type": "code",
   "execution_count": 111,
   "metadata": {},
   "outputs": [
    {
     "name": "stdout",
     "output_type": "stream",
     "text": [
      "Train on 108006 samples, validate on 2000 samples\n",
      "Epoch 1/2\n",
      "108006/108006 [==============================] - 195s 2ms/sample - loss: 0.3640 - accuracy: 0.7864 - val_loss: 0.3699 - val_accuracy: 0.8725\n",
      "Epoch 2/2\n",
      "108006/108006 [==============================] - 194s 2ms/sample - loss: 0.3541 - accuracy: 0.7867 - val_loss: 0.3640 - val_accuracy: 0.8725\n"
     ]
    }
   ],
   "source": [
    "#run test with and without mixup\n",
    "x_train1=np.concatenate((x_train,f_t), axis=0)\n",
    "y_train1=np.concatenate((y_train,f_l), axis=0)\n",
    "\n",
    "h3 = model3.fit(x_train1, y_train1,  \n",
    "          epochs=epochs,\n",
    "          validation_data=(x_test, y_test))"
   ]
  },
  {
   "cell_type": "code",
   "execution_count": 112,
   "metadata": {},
   "outputs": [
    {
     "data": {
      "text/plain": [
       "<matplotlib.axes._subplots.AxesSubplot at 0x2be1a9d3848>"
      ]
     },
     "execution_count": 112,
     "metadata": {},
     "output_type": "execute_result"
    },
    {
     "data": {
      "image/png": "[encoded data removed]",
      "text/plain": [
       "<Figure size 432x288 with 1 Axes>"
      ]
     },
     "metadata": {
      "needs_background": "light"
     },
     "output_type": "display_data"
    }
   ],
   "source": [
    "pd.DataFrame(h3.history)[['loss','val_loss']].plot(title=\"with and Without mixup\")"
   ]
  },
  {
   "cell_type": "code",
   "execution_count": 116,
   "metadata": {},
   "outputs": [
    {
     "name": "stdout",
     "output_type": "stream",
     "text": [
      "LR, Count Vectors:   accuracy: 0.872   f1 score: 0.8294273539197945\n"
     ]
    },
    {
     "name": "stderr",
     "output_type": "stream",
     "text": [
      "C:\\Users\\mjahan18\\Anaconda3\\lib\\site-packages\\sklearn\\linear_model\\logistic.py:432: FutureWarning: Default solver will be changed to 'lbfgs' in 0.22. Specify a solver to silence this warning.\n",
      "  FutureWarning)\n"
     ]
    }
   ],
   "source": [
    "def train_model(classifier, xtrain, ytrain, xvalid, yvalid):\n",
    "   \n",
    "    # fit the training dataset on the classifier\n",
    "    classifier.fit(xtrain, ytrain)\n",
    "    # predict the labels on validation dataset\n",
    "    predictions = classifier.predict(xvalid)\n",
    "        \n",
    "    accuracy = metrics.accuracy_score(predictions, yvalid)\n",
    "    f1score = metrics.f1_score(yvalid, predictions, average='weighted')\n",
    "    return accuracy, f1score\n",
    "\n",
    "\n",
    "# Linear Classifier on Count Vectors\n",
    "accuracy, f1score = train_model(linear_model.LogisticRegression(), x_train, y_train, x_test, y_test)\n",
    "print(\"LR, Count Vectors:   accuracy: %s   f1 score: %s\"% (accuracy,f1score))"
   ]
  },
  {
   "cell_type": "code",
   "execution_count": 176,
   "metadata": {},
   "outputs": [
    {
     "name": "stdout",
     "output_type": "stream",
     "text": [
      "[[0. 0. 0. ... 0. 0. 0.]\n",
      " [0. 0. 0. ... 0. 0. 0.]\n",
      " [0. 0. 0. ... 0. 0. 0.]\n",
      " ...\n",
      " [0. 0. 0. ... 0. 0. 0.]\n",
      " [0. 0. 0. ... 0. 0. 0.]\n",
      " [0. 0. 0. ... 0. 0. 0.]]\n"
     ]
    }
   ],
   "source": [
    "# characters level tf-idf\n",
    "tfidf_vect_ngram_chars = TfidfVectorizer(analyzer='char', token_pattern=r'\\w{1,}', ngram_range=(2,3), max_features=5000)\n",
    "tfidf_vect_ngram_chars.fit(dataframe['comment'])\n",
    "xtrain_tfidf_ngram_chars =  tfidf_vect_ngram_chars.transform(train_x).toarray()\n",
    "xvalid_tfidf_ngram_chars =  tfidf_vect_ngram_chars.transform(valid_x).toarray()\n",
    "print(xtrain_tfidf_ngram_chars)"
   ]
  },
  {
   "cell_type": "code",
   "execution_count": 177,
   "metadata": {},
   "outputs": [],
   "source": [
    "def train_model(classifier, xtrain, ytrain, xvalid, yvalid):\n",
    "   \n",
    "    # fit the training dataset on the classifier\n",
    "    classifier.fit(xtrain, ytrain)\n",
    "    # predict the labels on validation dataset\n",
    "    predictions = classifier.predict(xvalid)\n",
    "        \n",
    "    accuracy = metrics.accuracy_score(predictions, yvalid)\n",
    "    f1score = metrics.f1_score(yvalid, predictions, average='weighted')\n",
    "    return accuracy, f1score"
   ]
  },
  {
   "cell_type": "code",
   "execution_count": 275,
   "metadata": {},
   "outputs": [],
   "source": [
    "#use mixup function\n",
    "mixup = MIXUP()\n",
    "generator, step = mixup.flow(xtrain_tfidf_ngram_chars, y_train, batch_size = batch_size, runs=runs)"
   ]
  },
  {
   "cell_type": "code",
   "execution_count": 276,
   "metadata": {},
   "outputs": [],
   "source": [
    "#mixup data sperate \n",
    "aug_t=[]\n",
    "aug_l=[]\n",
    "\n",
    "for x in generator: \n",
    "    if len(aug_t) < 10000:\n",
    "        for i in x[0]:\n",
    "            aug_t.append(i)\n",
    "\n",
    "        for j in x[1]:\n",
    "            aug_l.append(j)\n",
    "    else:\n",
    "        break\n",
    "        \n"
   ]
  },
  {
   "cell_type": "code",
   "execution_count": 285,
   "metadata": {},
   "outputs": [
    {
     "name": "stdout",
     "output_type": "stream",
     "text": [
      "[[0 0 0 ... 0 0 0]\n",
      " [0 0 0 ... 0 0 0]\n",
      " [0 0 0 ... 0 0 0]\n",
      " ...\n",
      " [0 0 0 ... 0 0 0]\n",
      " [0 0 0 ... 0 0 0]\n",
      " [0 0 0 ... 0 0 0]]\n",
      "[0 0 0 ... 0 0 0]\n"
     ]
    }
   ],
   "source": [
    "#mixup data sperate \n",
    "f_t=[]\n",
    "for i in aug_t:\n",
    "    \n",
    "    n=[]\n",
    "    for x in i:\n",
    "        if x<.1:\n",
    "            p=0\n",
    "            n.append(p)\n",
    "        else:\n",
    "            p=1\n",
    "            n.append(p)\n",
    "        \n",
    "    f_t.append(n)\n",
    "\n",
    "ft=np.array(f_t)\n",
    "print(ft)\n",
    "\n",
    "\n",
    "f_l=[]\n",
    "for j in aug_l:\n",
    "    if j<.5:\n",
    "        j=0\n",
    "    else:\n",
    "        j=1\n",
    "    f_l.append(j)\n",
    "fl=np.array(f_l)\n",
    "print(fl)"
   ]
  },
  {
   "cell_type": "code",
   "execution_count": 238,
   "metadata": {},
   "outputs": [
    {
     "data": {
      "text/plain": [
       "1"
      ]
     },
     "execution_count": 238,
     "metadata": {},
     "output_type": "execute_result"
    }
   ],
   "source": [
    "round(1.1)"
   ]
  },
  {
   "cell_type": "code",
   "execution_count": 291,
   "metadata": {},
   "outputs": [
    {
     "name": "stderr",
     "output_type": "stream",
     "text": [
      "C:\\Users\\mjahan18\\Anaconda3\\lib\\site-packages\\sklearn\\linear_model\\logistic.py:432: FutureWarning: Default solver will be changed to 'lbfgs' in 0.22. Specify a solver to silence this warning.\n",
      "  FutureWarning)\n"
     ]
    },
    {
     "name": "stdout",
     "output_type": "stream",
     "text": [
      "LR, CharLevel Vectors only mixup applied:   accuracy: 0.8763333333333333   f1 score: 0.818575353822467\n"
     ]
    },
    {
     "name": "stderr",
     "output_type": "stream",
     "text": [
      "C:\\Users\\mjahan18\\Anaconda3\\lib\\site-packages\\sklearn\\metrics\\classification.py:1437: UndefinedMetricWarning: F-score is ill-defined and being set to 0.0 in labels with no predicted samples.\n",
      "  'precision', 'predicted', average, warn_for)\n"
     ]
    }
   ],
   "source": [
    "# Linear Classifier on Character Level TF IDF Vectors\n",
    "accuracy, f1score = train_model(linear_model.LogisticRegression(), ft, fl, xvalid_tfidf_ngram_chars, y_test)\n",
    "print(\"LR, CharLevel Vectors only mixup applied:   accuracy: %s   f1 score: %s\"% (accuracy,f1score))"
   ]
  },
  {
   "cell_type": "code",
   "execution_count": 290,
   "metadata": {},
   "outputs": [
    {
     "name": "stderr",
     "output_type": "stream",
     "text": [
      "C:\\Users\\mjahan18\\Anaconda3\\lib\\site-packages\\sklearn\\linear_model\\logistic.py:432: FutureWarning: Default solver will be changed to 'lbfgs' in 0.22. Specify a solver to silence this warning.\n",
      "  FutureWarning)\n"
     ]
    },
    {
     "name": "stdout",
     "output_type": "stream",
     "text": [
      "LR, CharLevel Vectors without mixup:   accuracy: 0.9096666666666666   f1 score: 0.8904176806397655\n"
     ]
    }
   ],
   "source": [
    "# Linear Classifier on Character Level TF IDF Vectors\n",
    "accuracy, f1score = train_model(linear_model.LogisticRegression(), xtrain_tfidf_ngram_chars, y_train, xvalid_tfidf_ngram_chars, y_test)\n",
    "print(\"LR, CharLevel Vectors without mixup:   accuracy: %s   f1 score: %s\"% (accuracy,f1score))"
   ]
  },
  {
   "cell_type": "code",
   "execution_count": 288,
   "metadata": {},
   "outputs": [],
   "source": [
    "#run test with and without mixup\n",
    "x_train1=np.concatenate(( xtrain_tfidf_ngram_chars,ft), axis=0)\n",
    "y_train1=np.concatenate((y_train,fl), axis=0)"
   ]
  },
  {
   "cell_type": "code",
   "execution_count": 289,
   "metadata": {},
   "outputs": [
    {
     "name": "stderr",
     "output_type": "stream",
     "text": [
      "C:\\Users\\mjahan18\\Anaconda3\\lib\\site-packages\\sklearn\\linear_model\\logistic.py:432: FutureWarning: Default solver will be changed to 'lbfgs' in 0.22. Specify a solver to silence this warning.\n",
      "  FutureWarning)\n"
     ]
    },
    {
     "name": "stdout",
     "output_type": "stream",
     "text": [
      "LR, CharLevel Vectors with both mixup augmented data and original data together:   accuracy: 0.885   f1 score: 0.8385720001564473\n"
     ]
    }
   ],
   "source": [
    "# Linear Classifier on Character Level TF IDF Vectors\n",
    "accuracy, f1score = train_model(linear_model.LogisticRegression(), x_train1, y_train1, xvalid_tfidf_ngram_chars, y_test)\n",
    "print(\"LR, CharLevel Vectors with both mixup augmented data and original data together:   accuracy: %s   f1 score: %s\"% (accuracy,f1score))"
   ]
  }
 ],
 "metadata": {
  "kernelspec": {
   "display_name": "Python 3",
   "language": "python",
   "name": "python3"
  },
  "language_info": {
   "codemirror_mode": {
    "name": "ipython",
    "version": 3
   },
   "file_extension": ".py",
   "mimetype": "text/x-python",
   "name": "python",
   "nbconvert_exporter": "python",
   "pygments_lexer": "ipython3",
   "version": "3.7.4"
  }
 },
 "nbformat": 4,
 "nbformat_minor": 2
}
